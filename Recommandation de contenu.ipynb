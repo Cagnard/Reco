{
 "cells": [
  {
   "cell_type": "code",
   "execution_count": 1,
   "id": "632ee44f",
   "metadata": {
    "executionInfo": {
     "elapsed": 294,
     "status": "ok",
     "timestamp": 1665473119364,
     "user": {
      "displayName": "Cagnaaard",
      "userId": "13551279628201052482"
     },
     "user_tz": -120
    },
    "id": "632ee44f"
   },
   "outputs": [],
   "source": [
    "import numpy as np\n",
    "import pandas as pd\n",
    "import pickle\n",
    "#import pickle5 as pickle\n",
    "from sklearn.metrics.pairwise import cosine_similarity\n",
    "from surprise import accuracy, Dataset, SVD\n",
    "import os\n",
    "from surprise.model_selection import cross_validate\n",
    "#print(pd.__version__)"
   ]
  },
  {
   "cell_type": "code",
   "execution_count": 2,
   "id": "ed4ca04d",
   "metadata": {
    "executionInfo": {
     "elapsed": 3,
     "status": "ok",
     "timestamp": 1665472967184,
     "user": {
      "displayName": "Cagnaaard",
      "userId": "13551279628201052482"
     },
     "user_tz": -120
    },
    "id": "ed4ca04d"
   },
   "outputs": [],
   "source": []
  },
  {
   "cell_type": "markdown",
   "id": "ebb22e4f",
   "metadata": {
    "executionInfo": {
     "elapsed": 8,
     "status": "ok",
     "timestamp": 1665472992332,
     "user": {
      "displayName": "Cagnaaard",
      "userId": "13551279628201052482"
     },
     "user_tz": -120
    },
    "id": "g6G68uDf4Z4B"
   },
   "source": [
    "On cherche à proposer 5 articles à un lecteur. Pour cela, on va s'intéresser à 2 approches différentes."
   ]
  },
  {
   "cell_type": "markdown",
   "id": "2e4e29a7",
   "metadata": {
    "id": "2e4e29a7"
   },
   "source": [
    "# Content-based filtering"
   ]
  },
  {
   "cell_type": "markdown",
   "id": "eb9c08d2",
   "metadata": {},
   "source": [
    "La première méthode consistera, pour un article donné, à chercher les 5 articles qui lui ressemble le plus."
   ]
  },
  {
   "cell_type": "code",
   "execution_count": 2,
   "id": "56243394",
   "metadata": {
    "executionInfo": {
     "elapsed": 4990,
     "status": "ok",
     "timestamp": 1665472997318,
     "user": {
      "displayName": "Cagnaaard",
      "userId": "13551279628201052482"
     },
     "user_tz": -120
    },
    "id": "56243394"
   },
   "outputs": [],
   "source": [
    "with open('articles_embeddings.pickle', 'rb') as handle:\n",
    "    articles_embeddings = pickle.load(handle)"
   ]
  },
  {
   "cell_type": "code",
   "execution_count": 3,
   "id": "17579b5d",
   "metadata": {
    "colab": {
     "base_uri": "https://localhost:8080/"
    },
    "executionInfo": {
     "elapsed": 6,
     "status": "ok",
     "timestamp": 1665472997319,
     "user": {
      "displayName": "Cagnaaard",
      "userId": "13551279628201052482"
     },
     "user_tz": -120
    },
    "id": "17579b5d",
    "outputId": "6c5652e6-a7b7-439a-f945-c5c5abf1b82d"
   },
   "outputs": [
    {
     "data": {
      "text/plain": [
       "array([[-0.16118301, -0.95723313, -0.13794445, ..., -0.231686  ,\n",
       "         0.5974159 ,  0.40962312],\n",
       "       [-0.52321565, -0.974058  ,  0.73860806, ...,  0.18282819,\n",
       "         0.39708954, -0.83436364],\n",
       "       [-0.61961854, -0.9729604 , -0.20736018, ..., -0.44758022,\n",
       "         0.8059317 , -0.28528407],\n",
       "       ...,\n",
       "       [-0.25139043, -0.9762427 ,  0.58609664, ..., -0.14372464,\n",
       "         0.06809307, -0.7050104 ],\n",
       "       [ 0.22434181, -0.92328775, -0.38174152, ...,  0.6871319 ,\n",
       "        -0.5315117 ,  0.01072566],\n",
       "       [-0.25713393, -0.9946313 ,  0.9837918 , ...,  0.98387307,\n",
       "        -0.8381829 , -0.1792827 ]], dtype=float32)"
      ]
     },
     "execution_count": 3,
     "metadata": {},
     "output_type": "execute_result"
    }
   ],
   "source": [
    "articles_embeddings"
   ]
  },
  {
   "cell_type": "markdown",
   "id": "cd8b8df1",
   "metadata": {},
   "source": [
    "On va chercher les articles les plus proches de l'article donné par un calcul de similarité sur notre embedding."
   ]
  },
  {
   "cell_type": "code",
   "execution_count": 4,
   "id": "74edadf6",
   "metadata": {
    "executionInfo": {
     "elapsed": 9,
     "status": "ok",
     "timestamp": 1665472997324,
     "user": {
      "displayName": "Cagnaaard",
      "userId": "13551279628201052482"
     },
     "user_tz": -120
    },
    "id": "74edadf6"
   },
   "outputs": [],
   "source": [
    "def content_based(article_id):\n",
    "    similarity = cosine_similarity(articles_embeddings,articles_embeddings[article_id].reshape(1, -1))\n",
    "    return (similarity.argsort(axis=0))[-6:-1]    "
   ]
  },
  {
   "cell_type": "code",
   "execution_count": 5,
   "id": "94a69631",
   "metadata": {
    "colab": {
     "base_uri": "https://localhost:8080/"
    },
    "executionInfo": {
     "elapsed": 843,
     "status": "ok",
     "timestamp": 1665472998158,
     "user": {
      "displayName": "Cagnaaard",
      "userId": "13551279628201052482"
     },
     "user_tz": -120
    },
    "id": "94a69631",
    "outputId": "0e008530-cffd-4340-d97e-f17a5980af33"
   },
   "outputs": [
    {
     "data": {
      "text/plain": [
       "array([[ 155],\n",
       "       [1437],\n",
       "       [1368],\n",
       "       [ 158],\n",
       "       [ 249]], dtype=int64)"
      ]
     },
     "execution_count": 5,
     "metadata": {},
     "output_type": "execute_result"
    }
   ],
   "source": [
    "content_based(200)"
   ]
  },
  {
   "cell_type": "markdown",
   "id": "73e2d5dc",
   "metadata": {
    "id": "73e2d5dc"
   },
   "source": [
    "On peut envisager d'améliorer l'algorithme en faisant en sorte de ne pas sélectionner d'article déjà lu par le lecteur."
   ]
  },
  {
   "cell_type": "code",
   "execution_count": null,
   "id": "9fd55468",
   "metadata": {
    "id": "9fd55468"
   },
   "outputs": [],
   "source": []
  },
  {
   "cell_type": "markdown",
   "id": "902976bc",
   "metadata": {
    "id": "902976bc"
   },
   "source": [
    "# Collaborative filtering"
   ]
  },
  {
   "cell_type": "markdown",
   "id": "e2bef274",
   "metadata": {},
   "source": [
    "La deuxième méthode consistera, pour un utilisateur donné, de selectionner des articles aimés par des utilisateurs proche de lui."
   ]
  },
  {
   "cell_type": "code",
   "execution_count": 6,
   "id": "55be6fdd",
   "metadata": {
    "colab": {
     "base_uri": "https://localhost:8080/",
     "height": 298
    },
    "executionInfo": {
     "elapsed": 713,
     "status": "ok",
     "timestamp": 1665441208932,
     "user": {
      "displayName": "Cagnaaard",
      "userId": "13551279628201052482"
     },
     "user_tz": -120
    },
    "id": "55be6fdd",
    "outputId": "f93d7ebe-9b9d-46cb-b7a4-c5282ec4d4a5"
   },
   "outputs": [
    {
     "data": {
      "text/html": [
       "<div>\n",
       "<style scoped>\n",
       "    .dataframe tbody tr th:only-of-type {\n",
       "        vertical-align: middle;\n",
       "    }\n",
       "\n",
       "    .dataframe tbody tr th {\n",
       "        vertical-align: top;\n",
       "    }\n",
       "\n",
       "    .dataframe thead th {\n",
       "        text-align: right;\n",
       "    }\n",
       "</style>\n",
       "<table border=\"1\" class=\"dataframe\">\n",
       "  <thead>\n",
       "    <tr style=\"text-align: right;\">\n",
       "      <th></th>\n",
       "      <th>article_id</th>\n",
       "      <th>category_id</th>\n",
       "      <th>created_at_ts</th>\n",
       "      <th>publisher_id</th>\n",
       "      <th>words_count</th>\n",
       "    </tr>\n",
       "  </thead>\n",
       "  <tbody>\n",
       "    <tr>\n",
       "      <th>0</th>\n",
       "      <td>0</td>\n",
       "      <td>0</td>\n",
       "      <td>1513144419000</td>\n",
       "      <td>0</td>\n",
       "      <td>168</td>\n",
       "    </tr>\n",
       "    <tr>\n",
       "      <th>1</th>\n",
       "      <td>1</td>\n",
       "      <td>1</td>\n",
       "      <td>1405341936000</td>\n",
       "      <td>0</td>\n",
       "      <td>189</td>\n",
       "    </tr>\n",
       "    <tr>\n",
       "      <th>2</th>\n",
       "      <td>2</td>\n",
       "      <td>1</td>\n",
       "      <td>1408667706000</td>\n",
       "      <td>0</td>\n",
       "      <td>250</td>\n",
       "    </tr>\n",
       "    <tr>\n",
       "      <th>...</th>\n",
       "      <td>...</td>\n",
       "      <td>...</td>\n",
       "      <td>...</td>\n",
       "      <td>...</td>\n",
       "      <td>...</td>\n",
       "    </tr>\n",
       "    <tr>\n",
       "      <th>364044</th>\n",
       "      <td>364044</td>\n",
       "      <td>460</td>\n",
       "      <td>1457974279000</td>\n",
       "      <td>0</td>\n",
       "      <td>177</td>\n",
       "    </tr>\n",
       "    <tr>\n",
       "      <th>364045</th>\n",
       "      <td>364045</td>\n",
       "      <td>460</td>\n",
       "      <td>1515964737000</td>\n",
       "      <td>0</td>\n",
       "      <td>126</td>\n",
       "    </tr>\n",
       "    <tr>\n",
       "      <th>364046</th>\n",
       "      <td>364046</td>\n",
       "      <td>460</td>\n",
       "      <td>1505811330000</td>\n",
       "      <td>0</td>\n",
       "      <td>479</td>\n",
       "    </tr>\n",
       "  </tbody>\n",
       "</table>\n",
       "<p>364047 rows × 5 columns</p>\n",
       "</div>"
      ],
      "text/plain": [
       "        article_id  category_id  created_at_ts  publisher_id  words_count\n",
       "0                0            0  1513144419000             0          168\n",
       "1                1            1  1405341936000             0          189\n",
       "2                2            1  1408667706000             0          250\n",
       "...            ...          ...            ...           ...          ...\n",
       "364044      364044          460  1457974279000             0          177\n",
       "364045      364045          460  1515964737000             0          126\n",
       "364046      364046          460  1505811330000             0          479\n",
       "\n",
       "[364047 rows x 5 columns]"
      ]
     },
     "execution_count": 6,
     "metadata": {},
     "output_type": "execute_result"
    }
   ],
   "source": [
    "pd.set_option('display.max_columns', None, 'display.max_rows', 6)\n",
    "df_articles = pd.read_csv('articles_metadata.csv', low_memory=False)\n",
    "df_articles"
   ]
  },
  {
   "cell_type": "code",
   "execution_count": 7,
   "id": "5250868c",
   "metadata": {
    "colab": {
     "base_uri": "https://localhost:8080/",
     "height": 298
    },
    "executionInfo": {
     "elapsed": 486,
     "status": "ok",
     "timestamp": 1665441209412,
     "user": {
      "displayName": "Cagnaaard",
      "userId": "13551279628201052482"
     },
     "user_tz": -120
    },
    "id": "5250868c",
    "outputId": "054d5d66-1e21-44bc-da97-c5af1d814f63"
   },
   "outputs": [
    {
     "data": {
      "text/html": [
       "<div>\n",
       "<style scoped>\n",
       "    .dataframe tbody tr th:only-of-type {\n",
       "        vertical-align: middle;\n",
       "    }\n",
       "\n",
       "    .dataframe tbody tr th {\n",
       "        vertical-align: top;\n",
       "    }\n",
       "\n",
       "    .dataframe thead th {\n",
       "        text-align: right;\n",
       "    }\n",
       "</style>\n",
       "<table border=\"1\" class=\"dataframe\">\n",
       "  <thead>\n",
       "    <tr style=\"text-align: right;\">\n",
       "      <th></th>\n",
       "      <th>user_id</th>\n",
       "      <th>session_id</th>\n",
       "      <th>session_start</th>\n",
       "      <th>session_size</th>\n",
       "      <th>click_article_id</th>\n",
       "      <th>click_timestamp</th>\n",
       "      <th>click_environment</th>\n",
       "      <th>click_deviceGroup</th>\n",
       "      <th>click_os</th>\n",
       "      <th>click_country</th>\n",
       "      <th>click_region</th>\n",
       "      <th>click_referrer_type</th>\n",
       "    </tr>\n",
       "  </thead>\n",
       "  <tbody>\n",
       "    <tr>\n",
       "      <th>0</th>\n",
       "      <td>0</td>\n",
       "      <td>1506825423271737</td>\n",
       "      <td>1506825423000</td>\n",
       "      <td>2</td>\n",
       "      <td>157541</td>\n",
       "      <td>1506826828020</td>\n",
       "      <td>4</td>\n",
       "      <td>3</td>\n",
       "      <td>20</td>\n",
       "      <td>1</td>\n",
       "      <td>20</td>\n",
       "      <td>2</td>\n",
       "    </tr>\n",
       "    <tr>\n",
       "      <th>1</th>\n",
       "      <td>0</td>\n",
       "      <td>1506825423271737</td>\n",
       "      <td>1506825423000</td>\n",
       "      <td>2</td>\n",
       "      <td>68866</td>\n",
       "      <td>1506826858020</td>\n",
       "      <td>4</td>\n",
       "      <td>3</td>\n",
       "      <td>20</td>\n",
       "      <td>1</td>\n",
       "      <td>20</td>\n",
       "      <td>2</td>\n",
       "    </tr>\n",
       "    <tr>\n",
       "      <th>2</th>\n",
       "      <td>1</td>\n",
       "      <td>1506825426267738</td>\n",
       "      <td>1506825426000</td>\n",
       "      <td>2</td>\n",
       "      <td>235840</td>\n",
       "      <td>1506827017951</td>\n",
       "      <td>4</td>\n",
       "      <td>1</td>\n",
       "      <td>17</td>\n",
       "      <td>1</td>\n",
       "      <td>16</td>\n",
       "      <td>2</td>\n",
       "    </tr>\n",
       "    <tr>\n",
       "      <th>...</th>\n",
       "      <td>...</td>\n",
       "      <td>...</td>\n",
       "      <td>...</td>\n",
       "      <td>...</td>\n",
       "      <td>...</td>\n",
       "      <td>...</td>\n",
       "      <td>...</td>\n",
       "      <td>...</td>\n",
       "      <td>...</td>\n",
       "      <td>...</td>\n",
       "      <td>...</td>\n",
       "      <td>...</td>\n",
       "    </tr>\n",
       "    <tr>\n",
       "      <th>1880</th>\n",
       "      <td>706</td>\n",
       "      <td>1506828979881443</td>\n",
       "      <td>1506828979000</td>\n",
       "      <td>3</td>\n",
       "      <td>108854</td>\n",
       "      <td>1506829027334</td>\n",
       "      <td>4</td>\n",
       "      <td>3</td>\n",
       "      <td>2</td>\n",
       "      <td>1</td>\n",
       "      <td>25</td>\n",
       "      <td>1</td>\n",
       "    </tr>\n",
       "    <tr>\n",
       "      <th>1881</th>\n",
       "      <td>706</td>\n",
       "      <td>1506828979881443</td>\n",
       "      <td>1506828979000</td>\n",
       "      <td>3</td>\n",
       "      <td>96663</td>\n",
       "      <td>1506829095732</td>\n",
       "      <td>4</td>\n",
       "      <td>3</td>\n",
       "      <td>2</td>\n",
       "      <td>1</td>\n",
       "      <td>25</td>\n",
       "      <td>1</td>\n",
       "    </tr>\n",
       "    <tr>\n",
       "      <th>1882</th>\n",
       "      <td>706</td>\n",
       "      <td>1506828979881443</td>\n",
       "      <td>1506828979000</td>\n",
       "      <td>3</td>\n",
       "      <td>68866</td>\n",
       "      <td>1506829125732</td>\n",
       "      <td>4</td>\n",
       "      <td>3</td>\n",
       "      <td>2</td>\n",
       "      <td>1</td>\n",
       "      <td>25</td>\n",
       "      <td>1</td>\n",
       "    </tr>\n",
       "  </tbody>\n",
       "</table>\n",
       "<p>1883 rows × 12 columns</p>\n",
       "</div>"
      ],
      "text/plain": [
       "      user_id        session_id  session_start  session_size  \\\n",
       "0           0  1506825423271737  1506825423000             2   \n",
       "1           0  1506825423271737  1506825423000             2   \n",
       "2           1  1506825426267738  1506825426000             2   \n",
       "...       ...               ...            ...           ...   \n",
       "1880      706  1506828979881443  1506828979000             3   \n",
       "1881      706  1506828979881443  1506828979000             3   \n",
       "1882      706  1506828979881443  1506828979000             3   \n",
       "\n",
       "      click_article_id  click_timestamp  click_environment  click_deviceGroup  \\\n",
       "0               157541    1506826828020                  4                  3   \n",
       "1                68866    1506826858020                  4                  3   \n",
       "2               235840    1506827017951                  4                  1   \n",
       "...                ...              ...                ...                ...   \n",
       "1880            108854    1506829027334                  4                  3   \n",
       "1881             96663    1506829095732                  4                  3   \n",
       "1882             68866    1506829125732                  4                  3   \n",
       "\n",
       "      click_os  click_country  click_region  click_referrer_type  \n",
       "0           20              1            20                    2  \n",
       "1           20              1            20                    2  \n",
       "2           17              1            16                    2  \n",
       "...        ...            ...           ...                  ...  \n",
       "1880         2              1            25                    1  \n",
       "1881         2              1            25                    1  \n",
       "1882         2              1            25                    1  \n",
       "\n",
       "[1883 rows x 12 columns]"
      ]
     },
     "execution_count": 7,
     "metadata": {},
     "output_type": "execute_result"
    }
   ],
   "source": [
    "df_click = pd.read_csv('clicks_sample.csv', low_memory=False)\n",
    "df_click"
   ]
  },
  {
   "cell_type": "code",
   "execution_count": null,
   "id": "173f3fff",
   "metadata": {
    "id": "173f3fff"
   },
   "outputs": [],
   "source": []
  },
  {
   "cell_type": "markdown",
   "id": "553842ec",
   "metadata": {
    "id": "4849b357"
   },
   "source": [
    "On va chercher à calculer pour chaque couple (utilisateur;article) un score d'appréciation. Ici on va juste compter le nombre de clicks effectué par l'utilisateur sur l'article."
   ]
  },
  {
   "cell_type": "code",
   "execution_count": 8,
   "id": "59ce1bdc",
   "metadata": {
    "id": "59ce1bdc"
   },
   "outputs": [],
   "source": [
    "def getListOfFiles(dirName):\n",
    "    listOfFile = os.listdir(dirName)\n",
    "    allFiles = list()\n",
    "    for entry in listOfFile:\n",
    "        fullPath = os.path.join(dirName, entry)\n",
    "        if os.path.isdir(fullPath):\n",
    "            allFiles = allFiles + getListOfFiles(fullPath)\n",
    "        else:\n",
    "            allFiles.append(fullPath)\n",
    "                \n",
    "    return allFiles"
   ]
  },
  {
   "cell_type": "code",
   "execution_count": 9,
   "id": "69071f90",
   "metadata": {
    "colab": {
     "base_uri": "https://localhost:8080/",
     "height": 35
    },
    "executionInfo": {
     "elapsed": 340,
     "status": "ok",
     "timestamp": 1665441213087,
     "user": {
      "displayName": "Cagnaaard",
      "userId": "13551279628201052482"
     },
     "user_tz": -120
    },
    "id": "69071f90",
    "outputId": "f7052c68-6e74-4351-982d-65ffa8431b35"
   },
   "outputs": [
    {
     "data": {
      "text/plain": [
       "'clicks\\\\clicks_hour_000.csv'"
      ]
     },
     "execution_count": 9,
     "metadata": {},
     "output_type": "execute_result"
    }
   ],
   "source": [
    "csv_dir = 'clicks'\n",
    "csv_list = getListOfFiles(csv_dir)\n",
    "csv_list.pop(0)"
   ]
  },
  {
   "cell_type": "code",
   "execution_count": 10,
   "id": "91fd7584",
   "metadata": {
    "id": "91fd7584"
   },
   "outputs": [],
   "source": [
    "taille = len(df_click)\n",
    "for csv in csv_list:\n",
    "    df_click_temp = pd.read_csv(csv, low_memory=False)\n",
    "    taille += len(df_click_temp)"
   ]
  },
  {
   "cell_type": "code",
   "execution_count": 11,
   "id": "5ca15a73",
   "metadata": {
    "colab": {
     "base_uri": "https://localhost:8080/"
    },
    "executionInfo": {
     "elapsed": 5,
     "status": "ok",
     "timestamp": 1665441223341,
     "user": {
      "displayName": "Cagnaaard",
      "userId": "13551279628201052482"
     },
     "user_tz": -120
    },
    "id": "5ca15a73",
    "outputId": "9f129662-2432-46ec-860f-356a7a1dbb5f"
   },
   "outputs": [
    {
     "data": {
      "text/plain": [
       "2988181"
      ]
     },
     "execution_count": 11,
     "metadata": {},
     "output_type": "execute_result"
    }
   ],
   "source": [
    "taille"
   ]
  },
  {
   "cell_type": "code",
   "execution_count": 12,
   "id": "449ff745",
   "metadata": {
    "id": "449ff745"
   },
   "outputs": [],
   "source": [
    "for csv in csv_list:\n",
    "    df_click_temp = pd.read_csv(csv, low_memory=False)\n",
    "    df_click = pd.concat([df_click, df_click_temp])"
   ]
  },
  {
   "cell_type": "code",
   "execution_count": 13,
   "id": "f5ab1641",
   "metadata": {
    "colab": {
     "base_uri": "https://localhost:8080/",
     "height": 298
    },
    "executionInfo": {
     "elapsed": 17,
     "status": "ok",
     "timestamp": 1665441292099,
     "user": {
      "displayName": "Cagnaaard",
      "userId": "13551279628201052482"
     },
     "user_tz": -120
    },
    "id": "f5ab1641",
    "outputId": "1cec5553-b2ea-4e30-ac25-39b79dd9af98"
   },
   "outputs": [
    {
     "data": {
      "text/html": [
       "<div>\n",
       "<style scoped>\n",
       "    .dataframe tbody tr th:only-of-type {\n",
       "        vertical-align: middle;\n",
       "    }\n",
       "\n",
       "    .dataframe tbody tr th {\n",
       "        vertical-align: top;\n",
       "    }\n",
       "\n",
       "    .dataframe thead th {\n",
       "        text-align: right;\n",
       "    }\n",
       "</style>\n",
       "<table border=\"1\" class=\"dataframe\">\n",
       "  <thead>\n",
       "    <tr style=\"text-align: right;\">\n",
       "      <th></th>\n",
       "      <th>user_id</th>\n",
       "      <th>session_id</th>\n",
       "      <th>session_start</th>\n",
       "      <th>session_size</th>\n",
       "      <th>click_article_id</th>\n",
       "      <th>click_timestamp</th>\n",
       "      <th>click_environment</th>\n",
       "      <th>click_deviceGroup</th>\n",
       "      <th>click_os</th>\n",
       "      <th>click_country</th>\n",
       "      <th>click_region</th>\n",
       "      <th>click_referrer_type</th>\n",
       "    </tr>\n",
       "  </thead>\n",
       "  <tbody>\n",
       "    <tr>\n",
       "      <th>0</th>\n",
       "      <td>0</td>\n",
       "      <td>1506825423271737</td>\n",
       "      <td>1506825423000</td>\n",
       "      <td>2</td>\n",
       "      <td>157541</td>\n",
       "      <td>1506826828020</td>\n",
       "      <td>4</td>\n",
       "      <td>3</td>\n",
       "      <td>20</td>\n",
       "      <td>1</td>\n",
       "      <td>20</td>\n",
       "      <td>2</td>\n",
       "    </tr>\n",
       "    <tr>\n",
       "      <th>1</th>\n",
       "      <td>0</td>\n",
       "      <td>1506825423271737</td>\n",
       "      <td>1506825423000</td>\n",
       "      <td>2</td>\n",
       "      <td>68866</td>\n",
       "      <td>1506826858020</td>\n",
       "      <td>4</td>\n",
       "      <td>3</td>\n",
       "      <td>20</td>\n",
       "      <td>1</td>\n",
       "      <td>20</td>\n",
       "      <td>2</td>\n",
       "    </tr>\n",
       "    <tr>\n",
       "      <th>2</th>\n",
       "      <td>1</td>\n",
       "      <td>1506825426267738</td>\n",
       "      <td>1506825426000</td>\n",
       "      <td>2</td>\n",
       "      <td>235840</td>\n",
       "      <td>1506827017951</td>\n",
       "      <td>4</td>\n",
       "      <td>1</td>\n",
       "      <td>17</td>\n",
       "      <td>1</td>\n",
       "      <td>16</td>\n",
       "      <td>2</td>\n",
       "    </tr>\n",
       "    <tr>\n",
       "      <th>...</th>\n",
       "      <td>...</td>\n",
       "      <td>...</td>\n",
       "      <td>...</td>\n",
       "      <td>...</td>\n",
       "      <td>...</td>\n",
       "      <td>...</td>\n",
       "      <td>...</td>\n",
       "      <td>...</td>\n",
       "      <td>...</td>\n",
       "      <td>...</td>\n",
       "      <td>...</td>\n",
       "      <td>...</td>\n",
       "    </tr>\n",
       "    <tr>\n",
       "      <th>2988178</th>\n",
       "      <td>322896</td>\n",
       "      <td>1508211376302329</td>\n",
       "      <td>1508211376000</td>\n",
       "      <td>2</td>\n",
       "      <td>157507</td>\n",
       "      <td>1508211702520</td>\n",
       "      <td>4</td>\n",
       "      <td>1</td>\n",
       "      <td>17</td>\n",
       "      <td>1</td>\n",
       "      <td>25</td>\n",
       "      <td>2</td>\n",
       "    </tr>\n",
       "    <tr>\n",
       "      <th>2988179</th>\n",
       "      <td>123718</td>\n",
       "      <td>1508211379189330</td>\n",
       "      <td>1508211379000</td>\n",
       "      <td>2</td>\n",
       "      <td>234481</td>\n",
       "      <td>1508211513583</td>\n",
       "      <td>4</td>\n",
       "      <td>3</td>\n",
       "      <td>2</td>\n",
       "      <td>1</td>\n",
       "      <td>25</td>\n",
       "      <td>2</td>\n",
       "    </tr>\n",
       "    <tr>\n",
       "      <th>2988180</th>\n",
       "      <td>123718</td>\n",
       "      <td>1508211379189330</td>\n",
       "      <td>1508211379000</td>\n",
       "      <td>2</td>\n",
       "      <td>233578</td>\n",
       "      <td>1508211543583</td>\n",
       "      <td>4</td>\n",
       "      <td>3</td>\n",
       "      <td>2</td>\n",
       "      <td>1</td>\n",
       "      <td>25</td>\n",
       "      <td>2</td>\n",
       "    </tr>\n",
       "  </tbody>\n",
       "</table>\n",
       "<p>2988181 rows × 12 columns</p>\n",
       "</div>"
      ],
      "text/plain": [
       "        user_id        session_id  session_start session_size  \\\n",
       "0             0  1506825423271737  1506825423000            2   \n",
       "1             0  1506825423271737  1506825423000            2   \n",
       "2             1  1506825426267738  1506825426000            2   \n",
       "...         ...               ...            ...          ...   \n",
       "2988178  322896  1508211376302329  1508211376000            2   \n",
       "2988179  123718  1508211379189330  1508211379000            2   \n",
       "2988180  123718  1508211379189330  1508211379000            2   \n",
       "\n",
       "        click_article_id click_timestamp click_environment click_deviceGroup  \\\n",
       "0                 157541   1506826828020                 4                 3   \n",
       "1                  68866   1506826858020                 4                 3   \n",
       "2                 235840   1506827017951                 4                 1   \n",
       "...                  ...             ...               ...               ...   \n",
       "2988178           157507   1508211702520                 4                 1   \n",
       "2988179           234481   1508211513583                 4                 3   \n",
       "2988180           233578   1508211543583                 4                 3   \n",
       "\n",
       "        click_os click_country click_region click_referrer_type  \n",
       "0             20             1           20                   2  \n",
       "1             20             1           20                   2  \n",
       "2             17             1           16                   2  \n",
       "...          ...           ...          ...                 ...  \n",
       "2988178       17             1           25                   2  \n",
       "2988179        2             1           25                   2  \n",
       "2988180        2             1           25                   2  \n",
       "\n",
       "[2988181 rows x 12 columns]"
      ]
     },
     "execution_count": 13,
     "metadata": {},
     "output_type": "execute_result"
    }
   ],
   "source": [
    "df_click.reset_index(drop=True, inplace=True)\n",
    "df_click"
   ]
  },
  {
   "cell_type": "code",
   "execution_count": null,
   "id": "25937677",
   "metadata": {
    "id": "25937677"
   },
   "outputs": [],
   "source": []
  },
  {
   "cell_type": "code",
   "execution_count": 14,
   "id": "c34877cc",
   "metadata": {
    "id": "c34877cc"
   },
   "outputs": [],
   "source": [
    "df_click2 = df_click.copy(deep=True)"
   ]
  },
  {
   "cell_type": "code",
   "execution_count": 15,
   "id": "b1facaea",
   "metadata": {
    "colab": {
     "base_uri": "https://localhost:8080/",
     "height": 298
    },
    "executionInfo": {
     "elapsed": 21,
     "status": "ok",
     "timestamp": 1665441292614,
     "user": {
      "displayName": "Cagnaaard",
      "userId": "13551279628201052482"
     },
     "user_tz": -120
    },
    "id": "b1facaea",
    "outputId": "ffed2da0-6247-4a83-c3f7-74842413aa0f"
   },
   "outputs": [
    {
     "data": {
      "text/html": [
       "<div>\n",
       "<style scoped>\n",
       "    .dataframe tbody tr th:only-of-type {\n",
       "        vertical-align: middle;\n",
       "    }\n",
       "\n",
       "    .dataframe tbody tr th {\n",
       "        vertical-align: top;\n",
       "    }\n",
       "\n",
       "    .dataframe thead th {\n",
       "        text-align: right;\n",
       "    }\n",
       "</style>\n",
       "<table border=\"1\" class=\"dataframe\">\n",
       "  <thead>\n",
       "    <tr style=\"text-align: right;\">\n",
       "      <th></th>\n",
       "      <th>user_id</th>\n",
       "      <th>session_id</th>\n",
       "      <th>session_start</th>\n",
       "      <th>session_size</th>\n",
       "      <th>click_article_id</th>\n",
       "      <th>click_timestamp</th>\n",
       "      <th>click_environment</th>\n",
       "      <th>click_deviceGroup</th>\n",
       "      <th>click_os</th>\n",
       "      <th>click_country</th>\n",
       "      <th>click_region</th>\n",
       "      <th>click_referrer_type</th>\n",
       "    </tr>\n",
       "  </thead>\n",
       "  <tbody>\n",
       "    <tr>\n",
       "      <th>0</th>\n",
       "      <td>0</td>\n",
       "      <td>1506825423271737</td>\n",
       "      <td>1506825423000</td>\n",
       "      <td>2</td>\n",
       "      <td>157541</td>\n",
       "      <td>1506826828020</td>\n",
       "      <td>4</td>\n",
       "      <td>3</td>\n",
       "      <td>20</td>\n",
       "      <td>1</td>\n",
       "      <td>20</td>\n",
       "      <td>2</td>\n",
       "    </tr>\n",
       "    <tr>\n",
       "      <th>1</th>\n",
       "      <td>0</td>\n",
       "      <td>1506825423271737</td>\n",
       "      <td>1506825423000</td>\n",
       "      <td>2</td>\n",
       "      <td>68866</td>\n",
       "      <td>1506826858020</td>\n",
       "      <td>4</td>\n",
       "      <td>3</td>\n",
       "      <td>20</td>\n",
       "      <td>1</td>\n",
       "      <td>20</td>\n",
       "      <td>2</td>\n",
       "    </tr>\n",
       "    <tr>\n",
       "      <th>2</th>\n",
       "      <td>1</td>\n",
       "      <td>1506825426267738</td>\n",
       "      <td>1506825426000</td>\n",
       "      <td>2</td>\n",
       "      <td>235840</td>\n",
       "      <td>1506827017951</td>\n",
       "      <td>4</td>\n",
       "      <td>1</td>\n",
       "      <td>17</td>\n",
       "      <td>1</td>\n",
       "      <td>16</td>\n",
       "      <td>2</td>\n",
       "    </tr>\n",
       "    <tr>\n",
       "      <th>...</th>\n",
       "      <td>...</td>\n",
       "      <td>...</td>\n",
       "      <td>...</td>\n",
       "      <td>...</td>\n",
       "      <td>...</td>\n",
       "      <td>...</td>\n",
       "      <td>...</td>\n",
       "      <td>...</td>\n",
       "      <td>...</td>\n",
       "      <td>...</td>\n",
       "      <td>...</td>\n",
       "      <td>...</td>\n",
       "    </tr>\n",
       "    <tr>\n",
       "      <th>2988178</th>\n",
       "      <td>322896</td>\n",
       "      <td>1508211376302329</td>\n",
       "      <td>1508211376000</td>\n",
       "      <td>2</td>\n",
       "      <td>157507</td>\n",
       "      <td>1508211702520</td>\n",
       "      <td>4</td>\n",
       "      <td>1</td>\n",
       "      <td>17</td>\n",
       "      <td>1</td>\n",
       "      <td>25</td>\n",
       "      <td>2</td>\n",
       "    </tr>\n",
       "    <tr>\n",
       "      <th>2988179</th>\n",
       "      <td>123718</td>\n",
       "      <td>1508211379189330</td>\n",
       "      <td>1508211379000</td>\n",
       "      <td>2</td>\n",
       "      <td>234481</td>\n",
       "      <td>1508211513583</td>\n",
       "      <td>4</td>\n",
       "      <td>3</td>\n",
       "      <td>2</td>\n",
       "      <td>1</td>\n",
       "      <td>25</td>\n",
       "      <td>2</td>\n",
       "    </tr>\n",
       "    <tr>\n",
       "      <th>2988180</th>\n",
       "      <td>123718</td>\n",
       "      <td>1508211379189330</td>\n",
       "      <td>1508211379000</td>\n",
       "      <td>2</td>\n",
       "      <td>233578</td>\n",
       "      <td>1508211543583</td>\n",
       "      <td>4</td>\n",
       "      <td>3</td>\n",
       "      <td>2</td>\n",
       "      <td>1</td>\n",
       "      <td>25</td>\n",
       "      <td>2</td>\n",
       "    </tr>\n",
       "  </tbody>\n",
       "</table>\n",
       "<p>2988181 rows × 12 columns</p>\n",
       "</div>"
      ],
      "text/plain": [
       "        user_id        session_id  session_start session_size  \\\n",
       "0             0  1506825423271737  1506825423000            2   \n",
       "1             0  1506825423271737  1506825423000            2   \n",
       "2             1  1506825426267738  1506825426000            2   \n",
       "...         ...               ...            ...          ...   \n",
       "2988178  322896  1508211376302329  1508211376000            2   \n",
       "2988179  123718  1508211379189330  1508211379000            2   \n",
       "2988180  123718  1508211379189330  1508211379000            2   \n",
       "\n",
       "        click_article_id click_timestamp click_environment click_deviceGroup  \\\n",
       "0                 157541   1506826828020                 4                 3   \n",
       "1                  68866   1506826858020                 4                 3   \n",
       "2                 235840   1506827017951                 4                 1   \n",
       "...                  ...             ...               ...               ...   \n",
       "2988178           157507   1508211702520                 4                 1   \n",
       "2988179           234481   1508211513583                 4                 3   \n",
       "2988180           233578   1508211543583                 4                 3   \n",
       "\n",
       "        click_os click_country click_region click_referrer_type  \n",
       "0             20             1           20                   2  \n",
       "1             20             1           20                   2  \n",
       "2             17             1           16                   2  \n",
       "...          ...           ...          ...                 ...  \n",
       "2988178       17             1           25                   2  \n",
       "2988179        2             1           25                   2  \n",
       "2988180        2             1           25                   2  \n",
       "\n",
       "[2988181 rows x 12 columns]"
      ]
     },
     "execution_count": 15,
     "metadata": {},
     "output_type": "execute_result"
    }
   ],
   "source": [
    "df_click2"
   ]
  },
  {
   "cell_type": "code",
   "execution_count": null,
   "id": "90f0a51e",
   "metadata": {
    "id": "90f0a51e"
   },
   "outputs": [],
   "source": []
  },
  {
   "cell_type": "code",
   "execution_count": null,
   "id": "f1a889c4",
   "metadata": {
    "id": "f1a889c4"
   },
   "outputs": [],
   "source": []
  },
  {
   "cell_type": "code",
   "execution_count": 16,
   "id": "945e60c2",
   "metadata": {
    "id": "945e60c2"
   },
   "outputs": [],
   "source": [
    "tmp = df_click[['user_id','click_article_id']]"
   ]
  },
  {
   "cell_type": "code",
   "execution_count": 17,
   "id": "afca30fe",
   "metadata": {
    "colab": {
     "base_uri": "https://localhost:8080/",
     "height": 298
    },
    "executionInfo": {
     "elapsed": 19,
     "status": "ok",
     "timestamp": 1665441292616,
     "user": {
      "displayName": "Cagnaaard",
      "userId": "13551279628201052482"
     },
     "user_tz": -120
    },
    "id": "afca30fe",
    "outputId": "08187468-7258-4a5b-8c8d-e32c3168b12f"
   },
   "outputs": [
    {
     "data": {
      "text/html": [
       "<div>\n",
       "<style scoped>\n",
       "    .dataframe tbody tr th:only-of-type {\n",
       "        vertical-align: middle;\n",
       "    }\n",
       "\n",
       "    .dataframe tbody tr th {\n",
       "        vertical-align: top;\n",
       "    }\n",
       "\n",
       "    .dataframe thead th {\n",
       "        text-align: right;\n",
       "    }\n",
       "</style>\n",
       "<table border=\"1\" class=\"dataframe\">\n",
       "  <thead>\n",
       "    <tr style=\"text-align: right;\">\n",
       "      <th></th>\n",
       "      <th>user_id</th>\n",
       "      <th>click_article_id</th>\n",
       "    </tr>\n",
       "  </thead>\n",
       "  <tbody>\n",
       "    <tr>\n",
       "      <th>0</th>\n",
       "      <td>0</td>\n",
       "      <td>157541</td>\n",
       "    </tr>\n",
       "    <tr>\n",
       "      <th>1</th>\n",
       "      <td>0</td>\n",
       "      <td>68866</td>\n",
       "    </tr>\n",
       "    <tr>\n",
       "      <th>2</th>\n",
       "      <td>1</td>\n",
       "      <td>235840</td>\n",
       "    </tr>\n",
       "    <tr>\n",
       "      <th>...</th>\n",
       "      <td>...</td>\n",
       "      <td>...</td>\n",
       "    </tr>\n",
       "    <tr>\n",
       "      <th>2988178</th>\n",
       "      <td>322896</td>\n",
       "      <td>157507</td>\n",
       "    </tr>\n",
       "    <tr>\n",
       "      <th>2988179</th>\n",
       "      <td>123718</td>\n",
       "      <td>234481</td>\n",
       "    </tr>\n",
       "    <tr>\n",
       "      <th>2988180</th>\n",
       "      <td>123718</td>\n",
       "      <td>233578</td>\n",
       "    </tr>\n",
       "  </tbody>\n",
       "</table>\n",
       "<p>2988181 rows × 2 columns</p>\n",
       "</div>"
      ],
      "text/plain": [
       "        user_id click_article_id\n",
       "0             0           157541\n",
       "1             0            68866\n",
       "2             1           235840\n",
       "...         ...              ...\n",
       "2988178  322896           157507\n",
       "2988179  123718           234481\n",
       "2988180  123718           233578\n",
       "\n",
       "[2988181 rows x 2 columns]"
      ]
     },
     "execution_count": 17,
     "metadata": {},
     "output_type": "execute_result"
    }
   ],
   "source": [
    "tmp"
   ]
  },
  {
   "cell_type": "code",
   "execution_count": 18,
   "id": "ca15e7c7",
   "metadata": {
    "colab": {
     "base_uri": "https://localhost:8080/",
     "height": 288
    },
    "executionInfo": {
     "elapsed": 270,
     "status": "error",
     "timestamp": 1665442264094,
     "user": {
      "displayName": "Cagnaaard",
      "userId": "13551279628201052482"
     },
     "user_tz": -120
    },
    "id": "ca15e7c7",
    "outputId": "c9112d4b-6cae-45bf-f095-1f369ae38586"
   },
   "outputs": [],
   "source": [
    "tmp2 = tmp.groupby(['user_id','click_article_id']).value_counts()"
   ]
  },
  {
   "cell_type": "code",
   "execution_count": 19,
   "id": "188e82e7",
   "metadata": {
    "colab": {
     "base_uri": "https://localhost:8080/",
     "height": 312
    },
    "executionInfo": {
     "elapsed": 3077,
     "status": "ok",
     "timestamp": 1665441512114,
     "user": {
      "displayName": "Cagnaaard",
      "userId": "13551279628201052482"
     },
     "user_tz": -120
    },
    "id": "188e82e7",
    "outputId": "b7b24802-da83-49df-bc7f-8dfd5b62b8bc"
   },
   "outputs": [
    {
     "data": {
      "text/plain": [
       "user_id  click_article_id\n",
       "0        68866               1\n",
       "         87205               1\n",
       "         87224               1\n",
       "                            ..\n",
       "322895   289197              1\n",
       "322896   30760               1\n",
       "         157507              1\n",
       "Length: 2950710, dtype: int64"
      ]
     },
     "execution_count": 19,
     "metadata": {},
     "output_type": "execute_result"
    }
   ],
   "source": [
    "tmp2"
   ]
  },
  {
   "cell_type": "code",
   "execution_count": 20,
   "id": "8ff7b558",
   "metadata": {
    "id": "8ff7b558"
   },
   "outputs": [
    {
     "data": {
      "text/plain": [
       "array([ 1,  2,  5,  4,  3,  6,  7,  8, 10, 13,  9, 17, 12, 30, 31, 33, 16],\n",
       "      dtype=int64)"
      ]
     },
     "execution_count": 20,
     "metadata": {},
     "output_type": "execute_result"
    }
   ],
   "source": [
    "tmp2.unique()"
   ]
  },
  {
   "cell_type": "code",
   "execution_count": null,
   "id": "535499aa",
   "metadata": {
    "colab": {
     "base_uri": "https://localhost:8080/"
    },
    "executionInfo": {
     "elapsed": 566,
     "status": "ok",
     "timestamp": 1665440287337,
     "user": {
      "displayName": "Cagnaaard",
      "userId": "13551279628201052482"
     },
     "user_tz": -120
    },
    "id": "535499aa",
    "outputId": "b31f3953-90de-48bc-9563-57a4d17c22dc"
   },
   "outputs": [],
   "source": []
  },
  {
   "cell_type": "code",
   "execution_count": null,
   "id": "13d91dee",
   "metadata": {
    "id": "13d91dee"
   },
   "outputs": [],
   "source": []
  },
  {
   "cell_type": "code",
   "execution_count": 21,
   "id": "469935ab",
   "metadata": {
    "id": "469935ab"
   },
   "outputs": [
    {
     "data": {
      "text/html": [
       "<div>\n",
       "<style scoped>\n",
       "    .dataframe tbody tr th:only-of-type {\n",
       "        vertical-align: middle;\n",
       "    }\n",
       "\n",
       "    .dataframe tbody tr th {\n",
       "        vertical-align: top;\n",
       "    }\n",
       "\n",
       "    .dataframe thead th {\n",
       "        text-align: right;\n",
       "    }\n",
       "</style>\n",
       "<table border=\"1\" class=\"dataframe\">\n",
       "  <thead>\n",
       "    <tr style=\"text-align: right;\">\n",
       "      <th></th>\n",
       "      <th>user_id</th>\n",
       "      <th>click_article_id</th>\n",
       "      <th>count</th>\n",
       "    </tr>\n",
       "  </thead>\n",
       "  <tbody>\n",
       "    <tr>\n",
       "      <th>0</th>\n",
       "      <td>0</td>\n",
       "      <td>68866</td>\n",
       "      <td>1</td>\n",
       "    </tr>\n",
       "    <tr>\n",
       "      <th>1</th>\n",
       "      <td>0</td>\n",
       "      <td>87205</td>\n",
       "      <td>1</td>\n",
       "    </tr>\n",
       "    <tr>\n",
       "      <th>2</th>\n",
       "      <td>0</td>\n",
       "      <td>87224</td>\n",
       "      <td>1</td>\n",
       "    </tr>\n",
       "    <tr>\n",
       "      <th>...</th>\n",
       "      <td>...</td>\n",
       "      <td>...</td>\n",
       "      <td>...</td>\n",
       "    </tr>\n",
       "    <tr>\n",
       "      <th>2950707</th>\n",
       "      <td>322895</td>\n",
       "      <td>289197</td>\n",
       "      <td>1</td>\n",
       "    </tr>\n",
       "    <tr>\n",
       "      <th>2950708</th>\n",
       "      <td>322896</td>\n",
       "      <td>30760</td>\n",
       "      <td>1</td>\n",
       "    </tr>\n",
       "    <tr>\n",
       "      <th>2950709</th>\n",
       "      <td>322896</td>\n",
       "      <td>157507</td>\n",
       "      <td>1</td>\n",
       "    </tr>\n",
       "  </tbody>\n",
       "</table>\n",
       "<p>2950710 rows × 3 columns</p>\n",
       "</div>"
      ],
      "text/plain": [
       "         user_id  click_article_id  count\n",
       "0              0             68866      1\n",
       "1              0             87205      1\n",
       "2              0             87224      1\n",
       "...          ...               ...    ...\n",
       "2950707   322895            289197      1\n",
       "2950708   322896             30760      1\n",
       "2950709   322896            157507      1\n",
       "\n",
       "[2950710 rows x 3 columns]"
      ]
     },
     "execution_count": 21,
     "metadata": {},
     "output_type": "execute_result"
    }
   ],
   "source": [
    "tmp3 = tmp2.to_frame('count')\n",
    "tmp3.reset_index(inplace=True)\n",
    "tmp3"
   ]
  },
  {
   "cell_type": "code",
   "execution_count": 22,
   "id": "21a3618a",
   "metadata": {
    "id": "21a3618a"
   },
   "outputs": [
    {
     "data": {
      "text/plain": [
       "array([ 1,  2,  5,  4,  3,  6,  7,  8, 10, 13,  9, 17, 12, 30, 31, 33, 16],\n",
       "      dtype=int64)"
      ]
     },
     "execution_count": 22,
     "metadata": {},
     "output_type": "execute_result"
    }
   ],
   "source": [
    "tmp3['count'].unique()"
   ]
  },
  {
   "cell_type": "code",
   "execution_count": 23,
   "id": "HH6nNhxdSnmE",
   "metadata": {
    "id": "HH6nNhxdSnmE"
   },
   "outputs": [],
   "source": [
    "tmp3.to_csv('data_user.csv') "
   ]
  },
  {
   "cell_type": "code",
   "execution_count": null,
   "id": "THEal9j-SnRO",
   "metadata": {
    "id": "THEal9j-SnRO"
   },
   "outputs": [],
   "source": []
  },
  {
   "cell_type": "code",
   "execution_count": 24,
   "id": "cekXQULhI68-",
   "metadata": {
    "colab": {
     "base_uri": "https://localhost:8080/",
     "height": 424
    },
    "executionInfo": {
     "elapsed": 1916,
     "status": "ok",
     "timestamp": 1665473016544,
     "user": {
      "displayName": "Cagnaaard",
      "userId": "13551279628201052482"
     },
     "user_tz": -120
    },
    "id": "cekXQULhI68-",
    "outputId": "1ab62d9d-2e5f-40f3-fcaa-4aa277ff1031"
   },
   "outputs": [
    {
     "data": {
      "text/html": [
       "<div>\n",
       "<style scoped>\n",
       "    .dataframe tbody tr th:only-of-type {\n",
       "        vertical-align: middle;\n",
       "    }\n",
       "\n",
       "    .dataframe tbody tr th {\n",
       "        vertical-align: top;\n",
       "    }\n",
       "\n",
       "    .dataframe thead th {\n",
       "        text-align: right;\n",
       "    }\n",
       "</style>\n",
       "<table border=\"1\" class=\"dataframe\">\n",
       "  <thead>\n",
       "    <tr style=\"text-align: right;\">\n",
       "      <th></th>\n",
       "      <th>user_id</th>\n",
       "      <th>click_article_id</th>\n",
       "      <th>count</th>\n",
       "    </tr>\n",
       "  </thead>\n",
       "  <tbody>\n",
       "    <tr>\n",
       "      <th>0</th>\n",
       "      <td>0</td>\n",
       "      <td>68866</td>\n",
       "      <td>1</td>\n",
       "    </tr>\n",
       "    <tr>\n",
       "      <th>1</th>\n",
       "      <td>0</td>\n",
       "      <td>87205</td>\n",
       "      <td>1</td>\n",
       "    </tr>\n",
       "    <tr>\n",
       "      <th>2</th>\n",
       "      <td>0</td>\n",
       "      <td>87224</td>\n",
       "      <td>1</td>\n",
       "    </tr>\n",
       "    <tr>\n",
       "      <th>...</th>\n",
       "      <td>...</td>\n",
       "      <td>...</td>\n",
       "      <td>...</td>\n",
       "    </tr>\n",
       "    <tr>\n",
       "      <th>2950707</th>\n",
       "      <td>322895</td>\n",
       "      <td>289197</td>\n",
       "      <td>1</td>\n",
       "    </tr>\n",
       "    <tr>\n",
       "      <th>2950708</th>\n",
       "      <td>322896</td>\n",
       "      <td>30760</td>\n",
       "      <td>1</td>\n",
       "    </tr>\n",
       "    <tr>\n",
       "      <th>2950709</th>\n",
       "      <td>322896</td>\n",
       "      <td>157507</td>\n",
       "      <td>1</td>\n",
       "    </tr>\n",
       "  </tbody>\n",
       "</table>\n",
       "<p>2950710 rows × 3 columns</p>\n",
       "</div>"
      ],
      "text/plain": [
       "         user_id  click_article_id  count\n",
       "0              0             68866      1\n",
       "1              0             87205      1\n",
       "2              0             87224      1\n",
       "...          ...               ...    ...\n",
       "2950707   322895            289197      1\n",
       "2950708   322896             30760      1\n",
       "2950709   322896            157507      1\n",
       "\n",
       "[2950710 rows x 3 columns]"
      ]
     },
     "execution_count": 24,
     "metadata": {},
     "output_type": "execute_result"
    }
   ],
   "source": [
    "dataTotal = pd.read_csv('data_user.csv', low_memory=False)\n",
    "dataTotal = dataTotal.drop(['Unnamed: 0'], axis=1)\n",
    "dataTotal"
   ]
  },
  {
   "cell_type": "code",
   "execution_count": 25,
   "id": "6i1gS-0BRh4T",
   "metadata": {
    "colab": {
     "base_uri": "https://localhost:8080/"
    },
    "executionInfo": {
     "elapsed": 2,
     "status": "ok",
     "timestamp": 1665473017054,
     "user": {
      "displayName": "Cagnaaard",
      "userId": "13551279628201052482"
     },
     "user_tz": -120
    },
    "id": "6i1gS-0BRh4T",
    "outputId": "94b29fab-4af9-467e-9e93-9979c0d2e466"
   },
   "outputs": [
    {
     "data": {
      "text/plain": [
       "array([ 1,  2,  5,  4,  3,  6,  7,  8, 10, 13,  9, 17, 12, 30, 31, 33, 16],\n",
       "      dtype=int64)"
      ]
     },
     "execution_count": 25,
     "metadata": {},
     "output_type": "execute_result"
    }
   ],
   "source": [
    "dataTotal['count'].unique()"
   ]
  },
  {
   "cell_type": "markdown",
   "id": "2a27e2e7",
   "metadata": {},
   "source": [
    "On va maintenant entrainer un modèle qui va nous permettre de prédire le score d'un article pour un utilisateur en regardant par rapport aux autre utilisateurs ayant lu l'article."
   ]
  },
  {
   "cell_type": "code",
   "execution_count": 26,
   "id": "076b6d72",
   "metadata": {
    "id": "076b6d72"
   },
   "outputs": [
    {
     "name": "stdout",
     "output_type": "stream",
     "text": [
      "Evaluating RMSE, MAE of algorithm SVD on 3 split(s).\n",
      "\n",
      "                  Fold 1  Fold 2  Fold 3  Mean    Std     \n",
      "RMSE (testset)    0.1377  0.1345  0.1310  0.1344  0.0027  \n",
      "MAE (testset)     0.0287  0.0284  0.0286  0.0286  0.0001  \n",
      "Fit time          31.56   32.26   31.48   31.77   0.35    \n",
      "Test time         11.61   12.50   11.55   11.88   0.43    \n"
     ]
    },
    {
     "data": {
      "text/plain": [
       "{'test_rmse': array([0.13772107, 0.13448587, 0.13102081]),\n",
       " 'test_mae': array([0.02872184, 0.02844053, 0.0286002 ]),\n",
       " 'fit_time': (31.564550638198853, 32.26036882400513, 31.48144769668579),\n",
       " 'test_time': (11.608172178268433, 12.497164487838745, 11.549534559249878)}"
      ]
     },
     "execution_count": 26,
     "metadata": {},
     "output_type": "execute_result"
    }
   ],
   "source": [
    "from surprise import Reader, Dataset\n",
    "reader = Reader(rating_scale=(1, 35))\n",
    "data = Dataset.load_from_df(dataTotal, reader)\n",
    "from surprise import SVD, accuracy\n",
    "algo = SVD()\n",
    "trainset = data.build_full_trainset()\n",
    "cross_validate(algo, data, measures=['RMSE', 'MAE'], cv=3, verbose=True)\n",
    "#algo.fit(trainset)"
   ]
  },
  {
   "cell_type": "code",
   "execution_count": 27,
   "id": "1j7nh4PPfvjI",
   "metadata": {
    "id": "1j7nh4PPfvjI"
   },
   "outputs": [],
   "source": [
    "#testset = trainset.build_anti_testset()"
   ]
  },
  {
   "cell_type": "code",
   "execution_count": 28,
   "id": "61a1f73e",
   "metadata": {},
   "outputs": [
    {
     "data": {
      "text/plain": [
       "Prediction(uid=0, iid=52, r_ui=None, est=1.0093733671899021, details={'was_impossible': False})"
      ]
     },
     "execution_count": 28,
     "metadata": {},
     "output_type": "execute_result"
    }
   ],
   "source": [
    "algo.predict(0, 52, verbose=False)"
   ]
  },
  {
   "cell_type": "code",
   "execution_count": 29,
   "id": "354e72f0",
   "metadata": {
    "id": "354e72f0"
   },
   "outputs": [],
   "source": [
    "list_article = dataTotal['click_article_id'].unique()"
   ]
  },
  {
   "cell_type": "code",
   "execution_count": 30,
   "id": "byRImTrWmNtQ",
   "metadata": {
    "id": "byRImTrWmNtQ"
   },
   "outputs": [],
   "source": [
    "def user_list_article(user_id):\n",
    "    dataUser = dataTotal.loc[(dataTotal['user_id'] == user_id)]\n",
    "    user_list = dataUser['click_article_id'].unique()\n",
    "    new_list = [article for article in list_article if article not in user_list]\n",
    "    return new_list"
   ]
  },
  {
   "cell_type": "code",
   "execution_count": 31,
   "id": "23024832",
   "metadata": {
    "id": "23024832"
   },
   "outputs": [],
   "source": [
    "def pred_user(user_id):\n",
    "    list_pred = []\n",
    "    user_list = user_list_article(user_id)\n",
    "    for article in user_list:\n",
    "        pred = algo.predict(user_id, article, verbose=False)\n",
    "        list_pred += [pred]\n",
    "    return list_pred"
   ]
  },
  {
   "cell_type": "code",
   "execution_count": 32,
   "id": "zvSB1ERUpfVH",
   "metadata": {
    "id": "zvSB1ERUpfVH"
   },
   "outputs": [],
   "source": [
    "from collections import defaultdict\n",
    "def get_top_n(predictions, n=10):\n",
    "    # First map the predictions to each user.\n",
    "    top_n = defaultdict(list)\n",
    "    for uid, iid, true_r, est, _ in predictions:\n",
    "        top_n[uid].append((iid, est))\n",
    "\n",
    "    # Then sort the predictions for each user and retrieve the k highest ones.\n",
    "    for uid, user_ratings in top_n.items():\n",
    "        user_ratings.sort(key=lambda x: x[1], reverse=True)\n",
    "        top_n[uid] = user_ratings[:n]\n",
    "\n",
    "    return top_n"
   ]
  },
  {
   "cell_type": "code",
   "execution_count": 33,
   "id": "4VgXFccBqfus",
   "metadata": {
    "id": "4VgXFccBqfus"
   },
   "outputs": [],
   "source": [
    "def recommandation(user_id,nb):\n",
    "    tmp = get_top_n(pred_user(user_id),nb)\n",
    "    reco = []\n",
    "    for a,b in tmp[user_id]:\n",
    "        reco += [a]\n",
    "    return reco"
   ]
  },
  {
   "cell_type": "code",
   "execution_count": 34,
   "id": "b32acd28",
   "metadata": {
    "colab": {
     "base_uri": "https://localhost:8080/"
    },
    "executionInfo": {
     "elapsed": 2267,
     "status": "ok",
     "timestamp": 1665452319298,
     "user": {
      "displayName": "Cagnaaard",
      "userId": "13551279628201052482"
     },
     "user_tz": -120
    },
    "id": "b32acd28",
    "outputId": "b3e82dcb-952d-41c1-aa11-3c67ff2c5e6e"
   },
   "outputs": [
    {
     "data": {
      "text/plain": [
       "[68851, 237071, 74254, 105941, 96173]"
      ]
     },
     "execution_count": 34,
     "metadata": {},
     "output_type": "execute_result"
    }
   ],
   "source": [
    "recommandation(12000,5)"
   ]
  },
  {
   "cell_type": "code",
   "execution_count": null,
   "id": "dc55c941",
   "metadata": {
    "id": "dc55c941"
   },
   "outputs": [],
   "source": []
  },
  {
   "cell_type": "code",
   "execution_count": null,
   "id": "dfd5b85f",
   "metadata": {
    "id": "dfd5b85f"
   },
   "outputs": [],
   "source": [
    "[68851, 105941, 237071, 363925, 73431]"
   ]
  },
  {
   "cell_type": "code",
   "execution_count": 115,
   "id": "e8d334d1",
   "metadata": {},
   "outputs": [],
   "source": [
    "#import pickle5 as pickle\n",
    "pickle.dump(algo, open('ColabFilter.sav', 'wb'))"
   ]
  },
  {
   "cell_type": "code",
   "execution_count": null,
   "id": "e7237b58",
   "metadata": {},
   "outputs": [],
   "source": []
  },
  {
   "cell_type": "code",
   "execution_count": 72,
   "id": "5e808d72",
   "metadata": {},
   "outputs": [],
   "source": [
    "req = func.HttpRequest(\n",
    "            method='GET',\n",
    "            body={ \"name\": \"very good\" },\n",
    "            url='https://recommandation.azurewebsites.net/api/HttpTest',\n",
    "            params={'name': 'very good'})"
   ]
  },
  {
   "cell_type": "code",
   "execution_count": 179,
   "id": "058a203c",
   "metadata": {},
   "outputs": [],
   "source": [
    "import requests\n",
    "response = requests.post('https://recommandation.azurewebsites.net/api/HttpTest',\n",
    "                         json={'name': '200'})"
   ]
  },
  {
   "cell_type": "code",
   "execution_count": 180,
   "id": "12f167f8",
   "metadata": {},
   "outputs": [
    {
     "data": {
      "text/plain": [
       "b'1437 376 1184 158 249'"
      ]
     },
     "execution_count": 180,
     "metadata": {},
     "output_type": "execute_result"
    }
   ],
   "source": [
    "response.content"
   ]
  },
  {
   "cell_type": "code",
   "execution_count": 120,
   "id": "0e2220f7",
   "metadata": {},
   "outputs": [],
   "source": [
    "from sklearn import manifold, decomposition\n",
    "pca = decomposition.PCA(n_components=0.9)\n",
    "feat_pca= pca.fit_transform(articles_embeddings)"
   ]
  },
  {
   "cell_type": "code",
   "execution_count": 121,
   "id": "04fe11cf",
   "metadata": {},
   "outputs": [
    {
     "data": {
      "text/plain": [
       "(364047, 40)"
      ]
     },
     "execution_count": 121,
     "metadata": {},
     "output_type": "execute_result"
    }
   ],
   "source": [
    "feat_pca.shape"
   ]
  },
  {
   "cell_type": "code",
   "execution_count": 122,
   "id": "2d5ad4c4",
   "metadata": {},
   "outputs": [],
   "source": [
    "pickle.dump(feat_pca, open('Test.sav', 'wb'))"
   ]
  },
  {
   "cell_type": "code",
   "execution_count": null,
   "id": "f5c471b8",
   "metadata": {},
   "outputs": [],
   "source": []
  },
  {
   "cell_type": "code",
   "execution_count": 173,
   "id": "02d275da",
   "metadata": {},
   "outputs": [],
   "source": [
    "response = requests.post('http://127.0.0.1:5000/recom',\n",
    "                         data='300')"
   ]
  },
  {
   "cell_type": "code",
   "execution_count": 174,
   "id": "873b7f5b",
   "metadata": {},
   "outputs": [
    {
     "data": {
      "text/plain": [
       "b'1264 1631 988 1116 1529'"
      ]
     },
     "execution_count": 174,
     "metadata": {},
     "output_type": "execute_result"
    }
   ],
   "source": [
    "response.text"
   ]
  },
  {
   "cell_type": "code",
   "execution_count": 182,
   "id": "f14363b5",
   "metadata": {},
   "outputs": [],
   "source": [
    "response = requests.post('https://recoapi.azurewebsites.net/recom',\n",
    "                         data='200')"
   ]
  },
  {
   "cell_type": "code",
   "execution_count": 184,
   "id": "97cfadaa",
   "metadata": {},
   "outputs": [
    {
     "data": {
      "text/plain": [
       "'1437 376 1184 158 249'"
      ]
     },
     "execution_count": 184,
     "metadata": {},
     "output_type": "execute_result"
    }
   ],
   "source": [
    "response.text"
   ]
  },
  {
   "cell_type": "code",
   "execution_count": null,
   "id": "4f20405a",
   "metadata": {},
   "outputs": [],
   "source": []
  }
 ],
 "metadata": {
  "accelerator": "GPU",
  "colab": {
   "collapsed_sections": [],
   "provenance": []
  },
  "kernelspec": {
   "display_name": "Python 3 (ipykernel)",
   "language": "python",
   "name": "python3"
  },
  "language_info": {
   "codemirror_mode": {
    "name": "ipython",
    "version": 3
   },
   "file_extension": ".py",
   "mimetype": "text/x-python",
   "name": "python",
   "nbconvert_exporter": "python",
   "pygments_lexer": "ipython3",
   "version": "3.9.13"
  },
  "toc": {
   "base_numbering": 1,
   "nav_menu": {},
   "number_sections": true,
   "sideBar": true,
   "skip_h1_title": false,
   "title_cell": "Table of Contents",
   "title_sidebar": "Contents",
   "toc_cell": false,
   "toc_position": {
    "height": "calc(100% - 180px)",
    "left": "10px",
    "top": "150px",
    "width": "384px"
   },
   "toc_section_display": true,
   "toc_window_display": true
  }
 },
 "nbformat": 4,
 "nbformat_minor": 5
}
